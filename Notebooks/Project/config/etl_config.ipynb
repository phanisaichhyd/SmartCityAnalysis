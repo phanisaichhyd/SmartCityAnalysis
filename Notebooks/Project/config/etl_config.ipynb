{
 "cells": [
  {
   "cell_type": "code",
   "execution_count": 0,
   "metadata": {
    "application/vnd.databricks.v1+cell": {
     "cellMetadata": {},
     "inputWidgets": {},
     "nuid": "68b8f163-d3fd-47d1-bdcd-c136c394fea6",
     "showTitle": false,
     "title": ""
    }
   },
   "outputs": [],
   "source": [
    "dbutils.widgets.text(\"x\",\"xxxx\")\n",
    "print(dbutils.widgets.get(\"x\"))"
   ]
  },
  {
   "cell_type": "code",
   "execution_count": 0,
   "metadata": {
    "application/vnd.databricks.v1+cell": {
     "cellMetadata": {},
     "inputWidgets": {},
     "nuid": "0166799c-2741-45dc-af04-9d841ca84928",
     "showTitle": false,
     "title": ""
    }
   },
   "outputs": [],
   "source": [
    "connector_config = '''\n",
    "{\n",
    "  \"src_connector_class_mappings\" : {\n",
    "    \"deltalake\": {\n",
    "      \"class_name\": \"deltalake\"\n",
    "      },\n",
    "     \"api\": {\n",
    "      \"class_name\": \"GetData\"\n",
    "      } \n",
    "  },\n",
    "  \"dq_connector_class_mappings\":{\n",
    "  \"spark\": {\n",
    "      \"class_name\": \"spark_dq\"\n",
    "      }\n",
    "  }\n",
    "\n",
    "}\n",
    "'''"
   ]
  },
  {
   "cell_type": "code",
   "execution_count": 0,
   "metadata": {
    "application/vnd.databricks.v1+cell": {
     "cellMetadata": {},
     "inputWidgets": {},
     "nuid": "c8d5b4b4-bc88-4c26-833b-dc9c9b7cb160",
     "showTitle": false,
     "title": ""
    }
   },
   "outputs": [],
   "source": [
    "processing_config = '''\n",
    "{\n",
    "  \"temp_log_file_path\": \"/tmp/\",\n",
    "  \"ingestion\" : {\n",
    "    \"landing\": {\n",
    "      \"read_options\" : \"{'header':'true','delimiter':',','inferSchema':'true'}\",\n",
    "      \"file_format\": \"csv\",\n",
    "      \"path\": \"dbfs:/FileStore/shared_uploads/landing_zone/\"\n",
    "    },\n",
    "    \"bronze\": {\n",
    "      \"format\": \"csv\",\n",
    "      \"path\" : \"dbfs:/FileStore/shared_uploads/bronze/\",\n",
    "      \"write_command\" : \"insert overwrite \"\n",
    "      },\n",
    "    \"silver\": {\n",
    "      \"db\" : \"silver\",\n",
    "      \"table_format\": \"delta\"\n",
    "    },\n",
    "    \"gold\": {\n",
    "      \"db\" : \"gold\",\n",
    "      \"table_format\": \"delta\"\n",
    "    },\n",
    "    \"bronze_silver_mapping\":\n",
    "    {\n",
    "      \n",
    "      \"Electricity.csv\": \n",
    "      {\n",
    "        \"table_name\": \"electricity_consumption\"\n",
    "      },\n",
    "      \"House_Holds_And_Slums.csv\":{\n",
    "        \"table_name\":\"House_Holds_Slums\"\n",
    "      },\n",
    "      \"Water.csv\":{\n",
    "        \"table_name\":\"Water_Consumption\"\n",
    "      },\n",
    "      \"Crime_Data_from_2020_to_Present.csv\":{\n",
    "        \"table_name\":\"Crime_Data_from_2020\"\n",
    "      }\n",
    "    }\n",
    "  }\n",
    "\n",
    "}\n",
    "'''"
   ]
  }
 ],
 "metadata": {
  "application/vnd.databricks.v1+notebook": {
   "dashboards": [],
   "language": "python",
   "notebookMetadata": {
    "pythonIndentUnit": 4
   },
   "notebookName": "etl_config",
   "widgets": {}
  }
 },
 "nbformat": 4,
 "nbformat_minor": 0
}
