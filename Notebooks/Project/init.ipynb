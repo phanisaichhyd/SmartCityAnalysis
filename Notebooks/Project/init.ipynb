{
 "cells": [
  {
   "cell_type": "code",
   "execution_count": 0,
   "metadata": {
    "application/vnd.databricks.v1+cell": {
     "cellMetadata": {},
     "inputWidgets": {},
     "nuid": "7d8cd975-479f-4113-bac5-03d9aec9f3f4",
     "showTitle": false,
     "title": ""
    }
   },
   "outputs": [],
   "source": [
    "dbutils.fs.mkdirs(\"dbfs:/FileStore/shared_uploads/landing_zone\")\n",
    "dbutils.fs.mkdirs(\"dbfs:/FileStore/shared_uploads/bronze\")\n",
    "spark.sql(\"create  database if not exists silver\")\n",
    "spark.sql(\"create  database if not exists gold\")"
   ]
  },
  {
   "cell_type": "code",
   "execution_count": 0,
   "metadata": {
    "application/vnd.databricks.v1+cell": {
     "cellMetadata": {},
     "inputWidgets": {},
     "nuid": "b52e64e4-b296-4dbe-a9ea-a8364bfeee47",
     "showTitle": false,
     "title": ""
    }
   },
   "outputs": [],
   "source": [
    "%fs\n",
    "mkdirs \"dbfs:/FileStore/shared_uploads/landing_zone\";\n",
    "mkdirs \"dbfs:/FileStore/shared_uploads/bronze\""
   ]
  },
  {
   "cell_type": "code",
   "execution_count": 0,
   "metadata": {
    "application/vnd.databricks.v1+cell": {
     "cellMetadata": {},
     "inputWidgets": {},
     "nuid": "4ca189ad-d15b-443f-9188-8ed723380bca",
     "showTitle": false,
     "title": ""
    }
   },
   "outputs": [],
   "source": [
    "%fs\n",
    "mkdirs \"dbfs:/FileStore/shared_uploads/bronze\""
   ]
  },
  {
   "cell_type": "code",
   "execution_count": 0,
   "metadata": {
    "application/vnd.databricks.v1+cell": {
     "cellMetadata": {},
     "inputWidgets": {},
     "nuid": "a0d7001b-239b-4e65-a167-6dba25be6a8a",
     "showTitle": false,
     "title": ""
    }
   },
   "outputs": [],
   "source": [
    "%sql\n",
    "create  database if not exists silver;\n",
    "create  database if not exists gold;"
   ]
  },
  {
   "cell_type": "code",
   "execution_count": 0,
   "metadata": {
    "application/vnd.databricks.v1+cell": {
     "cellMetadata": {},
     "inputWidgets": {},
     "nuid": "34d558d9-9353-4b42-8a9c-16b802a4242d",
     "showTitle": false,
     "title": ""
    }
   },
   "outputs": [],
   "source": [
    "def check_and_remove_path(path):\n",
    "  print(\"Removing Path\",path)\n",
    "  try:\n",
    "    lst_files = dbutils.fs.ls(path)\n",
    "    print(\"Checking length\")\n",
    "    if len(lst_files)>0:\n",
    "      print(\"RM operation\")\n",
    "      dbutils.fs.rm(path,True)\n",
    "  except Exception as ex :\n",
    "    print(ex)\n",
    "    pass\n",
    "\n",
    "silver_db_path = \"dbfs:/user/hive/warehouse/silver.db/\"\n",
    "silver_tables = dbutils.fs.ls(silver_db_path)\n",
    "if len(silver_tables) >0:\n",
    "  for silver_table in silver_tables:\n",
    "    print(silver_table.path)\n",
    "    check_and_remove_path(silver_table.path)\n",
    "#silver_files = dbutils.fs.ls()\n"
   ]
  },
  {
   "cell_type": "code",
   "execution_count": 0,
   "metadata": {
    "application/vnd.databricks.v1+cell": {
     "cellMetadata": {},
     "inputWidgets": {},
     "nuid": "91bb5da3-9b43-4bde-8cba-d19139f31296",
     "showTitle": false,
     "title": ""
    }
   },
   "outputs": [],
   "source": [
    "dbutils.fs.ls(silver_db_path)"
   ]
  },
  {
   "cell_type": "code",
   "execution_count": 0,
   "metadata": {
    "application/vnd.databricks.v1+cell": {
     "cellMetadata": {},
     "inputWidgets": {},
     "nuid": "58393107-8e4c-473d-84ac-585c6bcff3c7",
     "showTitle": false,
     "title": ""
    }
   },
   "outputs": [],
   "source": [
    "def check_and_remove_path(path):\n",
    "  print(\"Removing Path\",path)\n",
    "  try:\n",
    "    lst_files = dbutils.fs.ls(path)\n",
    "    print(\"Checking length\")\n",
    "    if len(lst_files)>0:\n",
    "      print(\"RM operation\")\n",
    "      dbutils.fs.rm(path,True)\n",
    "  except Exception as ex :\n",
    "    print(ex)\n",
    "    pass\n",
    "\n",
    "gold_db_path = \"dbfs:/user/hive/warehouse/gold.db/\"\n",
    "gold_tables = dbutils.fs.ls(gold_db_path)\n",
    "if len(gold_tables) >0:\n",
    "  for gold_table in gold_tables:\n",
    "    print(gold_table.path)\n",
    "    check_and_remove_path(gold_table.path)\n",
    "#silver_files = dbutils.fs.ls()\n"
   ]
  },
  {
   "cell_type": "code",
   "execution_count": 0,
   "metadata": {
    "application/vnd.databricks.v1+cell": {
     "cellMetadata": {},
     "inputWidgets": {},
     "nuid": "75280e4f-e2ed-49ec-89ae-939c97430c39",
     "showTitle": false,
     "title": ""
    }
   },
   "outputs": [],
   "source": [
    "dbutils.fs.help(\"ls\")"
   ]
  },
  {
   "cell_type": "code",
   "execution_count": 0,
   "metadata": {
    "application/vnd.databricks.v1+cell": {
     "cellMetadata": {},
     "inputWidgets": {},
     "nuid": "5161aa24-7a4e-4bbc-a447-eaa2ca363fce",
     "showTitle": false,
     "title": ""
    }
   },
   "outputs": [],
   "source": [
    "%sql\n",
    "--drop database  silver cascade;"
   ]
  },
  {
   "cell_type": "code",
   "execution_count": 0,
   "metadata": {
    "application/vnd.databricks.v1+cell": {
     "cellMetadata": {},
     "inputWidgets": {},
     "nuid": "1cfb7878-94ee-4146-83ec-ef5a0d5f01ae",
     "showTitle": false,
     "title": ""
    }
   },
   "outputs": [],
   "source": [
    "%sql\n",
    "desc database silver;"
   ]
  }
 ],
 "metadata": {
  "application/vnd.databricks.v1+notebook": {
   "dashboards": [],
   "language": "python",
   "notebookMetadata": {
    "pythonIndentUnit": 4
   },
   "notebookName": "init",
   "widgets": {}
  }
 },
 "nbformat": 4,
 "nbformat_minor": 0
}
