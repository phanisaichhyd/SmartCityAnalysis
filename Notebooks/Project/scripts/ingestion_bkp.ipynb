{
 "cells": [
  {
   "cell_type": "code",
   "execution_count": 0,
   "metadata": {
    "application/vnd.databricks.v1+cell": {
     "cellMetadata": {},
     "inputWidgets": {},
     "nuid": "05da2616-1155-4160-b8ca-80a3b243a59f",
     "showTitle": false,
     "title": ""
    }
   },
   "outputs": [],
   "source": [
    "import datetime"
   ]
  },
  {
   "cell_type": "code",
   "execution_count": 0,
   "metadata": {
    "application/vnd.databricks.v1+cell": {
     "cellMetadata": {},
     "inputWidgets": {},
     "nuid": "1c3cfb7b-11f3-4657-bd7b-239862de24c5",
     "showTitle": false,
     "title": ""
    }
   },
   "outputs": [],
   "source": [
    "#dbutils.widgets.text(\"bronze_format\",\"csv\")\n",
    "#dbutils.widgets.text(\"silver_db\",\"silver\")\n",
    "#dbutils.widgets.text(\"gold_db\",\"gold\")\n",
    "#dbutils.widgets.text(\"config_file\",\"etl_config\")\n",
    "dbutils.widgets.text(\"config\",\"etl_config\")\n",
    "dbutils.widgets.text(\"logger\",\"logger\")"
   ]
  },
  {
   "cell_type": "code",
   "execution_count": 0,
   "metadata": {
    "application/vnd.databricks.v1+cell": {
     "cellMetadata": {},
     "inputWidgets": {},
     "nuid": "f9f50c4b-8ba4-455f-8594-af3b3cd8562c",
     "showTitle": false,
     "title": ""
    }
   },
   "outputs": [],
   "source": [
    "%run ../utils/utils"
   ]
  },
  {
   "cell_type": "code",
   "execution_count": 0,
   "metadata": {
    "application/vnd.databricks.v1+cell": {
     "cellMetadata": {},
     "inputWidgets": {},
     "nuid": "8b4d0fdc-d83e-444a-8c3e-896e6c4acc14",
     "showTitle": false,
     "title": ""
    }
   },
   "outputs": [],
   "source": [
    "dbutils.widgets.remove(\"config_file\")"
   ]
  },
  {
   "cell_type": "code",
   "execution_count": 0,
   "metadata": {
    "application/vnd.databricks.v1+cell": {
     "cellMetadata": {},
     "inputWidgets": {},
     "nuid": "c4536353-b921-4c0f-bf56-4814e0d3dbdb",
     "showTitle": false,
     "title": ""
    }
   },
   "outputs": [],
   "source": [
    "processing_config = dbutils.widgets.get(\"config\")\n",
    "logger = dbutils.widgets.get(\"logger\")"
   ]
  },
  {
   "cell_type": "code",
   "execution_count": 0,
   "metadata": {
    "application/vnd.databricks.v1+cell": {
     "cellMetadata": {},
     "inputWidgets": {},
     "nuid": "2a737de5-5d17-4c15-afda-96bc2420b385",
     "showTitle": false,
     "title": ""
    }
   },
   "outputs": [],
   "source": [
    "%run ../config/etl_config $x=1000"
   ]
  },
  {
   "cell_type": "code",
   "execution_count": 0,
   "metadata": {
    "application/vnd.databricks.v1+cell": {
     "cellMetadata": {},
     "inputWidgets": {},
     "nuid": "3b59deae-f73e-4956-9c54-e8b96e5b2ee2",
     "showTitle": false,
     "title": ""
    }
   },
   "outputs": [],
   "source": [
    "processing_config = config.get_config(processing)\n",
    "log_file_path = processing_config['temp_log_file_path']\n",
    "current_ts = datetime.datetime.now().strftime(\"%Y-%m-%d-%H-%M-%S\")\n",
    "log_file_name = \"log_file_\" + str(current_ts) + '.log'\n",
    "logger = pylogger(log_flag=True, log_file=log_file_name, log_path=log_file_path)"
   ]
  },
  {
   "cell_type": "code",
   "execution_count": 0,
   "metadata": {
    "application/vnd.databricks.v1+cell": {
     "cellMetadata": {},
     "inputWidgets": {},
     "nuid": "ae47b7f1-d3cf-48af-a75c-e6ce9bc4e72f",
     "showTitle": false,
     "title": ""
    }
   },
   "outputs": [],
   "source": []
  },
  {
   "cell_type": "code",
   "execution_count": 0,
   "metadata": {
    "application/vnd.databricks.v1+cell": {
     "cellMetadata": {},
     "inputWidgets": {},
     "nuid": "7b6b5c3f-aecd-42c7-97bd-857985dd24e4",
     "showTitle": false,
     "title": ""
    }
   },
   "outputs": [],
   "source": [
    "processing_config"
   ]
  },
  {
   "cell_type": "code",
   "execution_count": 0,
   "metadata": {
    "application/vnd.databricks.v1+cell": {
     "cellMetadata": {},
     "inputWidgets": {},
     "nuid": "1aebbd83-c43c-4d3f-98f0-f4ba53a6c7df",
     "showTitle": false,
     "title": ""
    }
   },
   "outputs": [],
   "source": [
    "landing_files = dbutils.fs.ls(processing_config[\"ingestion\"][\"landing\"][\"path\"])\n",
    "bronze_files = dbutils.fs.ls(processing_config[\"ingestion\"][\"bronze\"][\"path\"])\n",
    "landing_files"
   ]
  },
  {
   "cell_type": "code",
   "execution_count": 0,
   "metadata": {
    "application/vnd.databricks.v1+cell": {
     "cellMetadata": {},
     "inputWidgets": {},
     "nuid": "e5101864-c365-4757-a189-c38253b1c83d",
     "showTitle": false,
     "title": ""
    }
   },
   "outputs": [],
   "source": [
    "bronze_files = [files.name for files in bronze_files]\n",
    "logger.print_log(\"Cleaning up Bronze Layer\")\n",
    "for f in bronze_files:\n",
    "  dbutils.fs.rm(bronze_path + f)\n",
    "landing_files = [files.name for files in landing_files]\n",
    "logger.print_log(\"Moving Landing files to bronze layer\")\n",
    "for f in landing_files:\n",
    "  logger.print_log(\"Moving \" + f + \" from landing to bronze\")\n",
    "  dbutils.fs.cp(landing_path + f ,bronze_path)\n",
    "logger.print_log(\"All files are moved from landing area to bronze\")\n",
    "dbutils.fs.ls(bronze_path)"
   ]
  },
  {
   "cell_type": "code",
   "execution_count": 0,
   "metadata": {
    "application/vnd.databricks.v1+cell": {
     "cellMetadata": {},
     "inputWidgets": {},
     "nuid": "73044fd8-ba40-424d-ba4f-dcec6e0aea0e",
     "showTitle": false,
     "title": ""
    }
   },
   "outputs": [],
   "source": [
    "curr_path = dbutils.notebook.entry_point.getDbutils().notebook().getContext().notebookPath().get()\n",
    "print(curr_path)\n",
    "log_path = \"/\".join(curr_path.split(\"/\")[:-2]) + \"/logs\""
   ]
  },
  {
   "cell_type": "code",
   "execution_count": 0,
   "metadata": {
    "application/vnd.databricks.v1+cell": {
     "cellMetadata": {},
     "inputWidgets": {},
     "nuid": "464f2438-2995-4b64-9a39-ff55069dc130",
     "showTitle": false,
     "title": ""
    }
   },
   "outputs": [],
   "source": [
    "bronze_files = [files.name for files in bronze_files]\n"
   ]
  },
  {
   "cell_type": "code",
   "execution_count": 0,
   "metadata": {
    "application/vnd.databricks.v1+cell": {
     "cellMetadata": {},
     "inputWidgets": {},
     "nuid": "14d071fe-8470-46be-bb55-ddc2d50b1dc9",
     "showTitle": false,
     "title": ""
    }
   },
   "outputs": [],
   "source": [
    "for bronze_file in bronze_files:\n",
    "  silver_table = processing_config[\"ingestion\"][\"bronze_silver_mapping\"][bronze_file]\n",
    "  print(silver_table)"
   ]
  },
  {
   "cell_type": "code",
   "execution_count": 0,
   "metadata": {
    "application/vnd.databricks.v1+cell": {
     "cellMetadata": {},
     "inputWidgets": {},
     "nuid": "9fcd6441-844c-4a96-af61-ed5e4c3b655e",
     "showTitle": false,
     "title": ""
    }
   },
   "outputs": [],
   "source": []
  }
 ],
 "metadata": {
  "application/vnd.databricks.v1+notebook": {
   "dashboards": [],
   "language": "python",
   "notebookMetadata": {},
   "notebookName": "ingestion_bkp",
   "widgets": {}
  }
 },
 "nbformat": 4,
 "nbformat_minor": 0
}
