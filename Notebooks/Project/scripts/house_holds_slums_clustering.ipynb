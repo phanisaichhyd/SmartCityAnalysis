{
 "cells": [
  {
   "cell_type": "markdown",
   "metadata": {
    "application/vnd.databricks.v1+cell": {
     "cellMetadata": {},
     "inputWidgets": {},
     "nuid": "c7959d8c-f336-4f1d-9717-7cd9ccaa1303",
     "showTitle": false,
     "title": ""
    }
   },
   "source": [
    "## Households in Slums Clustering"
   ]
  },
  {
   "cell_type": "code",
   "execution_count": 0,
   "metadata": {
    "application/vnd.databricks.v1+cell": {
     "cellMetadata": {},
     "inputWidgets": {},
     "nuid": "be990d81-694e-4e82-af1d-6d510f5e17e9",
     "showTitle": false,
     "title": ""
    }
   },
   "outputs": [],
   "source": [
    "from pyspark.sql.functions import col, when, count, sum, avg"
   ]
  },
  {
   "cell_type": "code",
   "execution_count": 0,
   "metadata": {
    "application/vnd.databricks.v1+cell": {
     "cellMetadata": {},
     "inputWidgets": {},
     "nuid": "6f7e17b3-3377-4079-a7c2-78ca33ecc7e2",
     "showTitle": false,
     "title": ""
    }
   },
   "outputs": [],
   "source": [
    "%run ../utils/model_utils"
   ]
  },
  {
   "cell_type": "code",
   "execution_count": 0,
   "metadata": {
    "application/vnd.databricks.v1+cell": {
     "cellMetadata": {},
     "inputWidgets": {},
     "nuid": "fde35cb5-8fa1-4999-9eb9-bb2b5880b83d",
     "showTitle": false,
     "title": ""
    }
   },
   "outputs": [],
   "source": [
    "df = spark.sql(\"select * from silver.house_holds_slums\")"
   ]
  },
  {
   "cell_type": "code",
   "execution_count": 0,
   "metadata": {
    "application/vnd.databricks.v1+cell": {
     "cellMetadata": {},
     "inputWidgets": {},
     "nuid": "c8fb6f0b-a302-45f2-a2c7-be9a161f8f50",
     "showTitle": false,
     "title": ""
    }
   },
   "outputs": [],
   "source": [
    "display(df)"
   ]
  },
  {
   "cell_type": "code",
   "execution_count": 0,
   "metadata": {
    "application/vnd.databricks.v1+cell": {
     "cellMetadata": {},
     "inputWidgets": {},
     "nuid": "c4f719a4-120f-4174-93d2-a35a8fc0df94",
     "showTitle": false,
     "title": ""
    }
   },
   "outputs": [],
   "source": [
    "df, numerical_cols = data_preprocessing(df, null_threshold_percentage = 0.5)"
   ]
  },
  {
   "cell_type": "code",
   "execution_count": 0,
   "metadata": {
    "application/vnd.databricks.v1+cell": {
     "cellMetadata": {},
     "inputWidgets": {},
     "nuid": "51e333ae-4209-468f-974e-b17a8aada66f",
     "showTitle": false,
     "title": ""
    }
   },
   "outputs": [],
   "source": [
    "df = df.drop('Zone', 'WardName', 'WardNo.')\n",
    "df = df.groupBy(\"City\").agg(sum('NoNotifiedSlums').alias('NoNotifiedSlums'),\n",
    "                            sum('NoOfRecognisedSlums').alias('NoOfRecognisedSlums'),\n",
    "                            sum('NoOfIdentfiedSlums').alias('NoOfIdentfiedSlums'),\n",
    "                            sum('SlumPopulationTotal').alias('SlumPopulationTotal'),\n",
    "                            sum('SlumPopulationMale').alias('SlumPopulationMale'),\n",
    "                            sum('SlumPopulationFemale').alias('SlumPopulationFemale'),\n",
    "                            sum('PopulationSCCategory').alias('PopulationSCCategory'),\n",
    "                            sum('PopulationSTCategory').alias('PopulationSTCategory'),\n",
    "                            avg('LiteracyRatePercentage').alias('LiteracyRatePercentage')\n",
    "                            )"
   ]
  },
  {
   "cell_type": "code",
   "execution_count": 0,
   "metadata": {
    "application/vnd.databricks.v1+cell": {
     "cellMetadata": {},
     "inputWidgets": {},
     "nuid": "959bd6f2-9776-4904-87ff-6957a013f4b5",
     "showTitle": false,
     "title": ""
    }
   },
   "outputs": [],
   "source": [
    "display(df)"
   ]
  },
  {
   "cell_type": "code",
   "execution_count": 0,
   "metadata": {
    "application/vnd.databricks.v1+cell": {
     "cellMetadata": {},
     "inputWidgets": {},
     "nuid": "cbec70ee-bb4a-4723-801c-253c416edf59",
     "showTitle": false,
     "title": ""
    }
   },
   "outputs": [],
   "source": [
    "df = df.withColumn(\"SlumPopulationMale\", when((col(\"SlumPopulationTotal\") > 0) & (col(\"SlumPopulationMale\") == 0), 0.52 * col(\"SlumPopulationTotal\")).otherwise(col(\"SlumPopulationMale\"))) \\\n",
    "    .withColumn(\"SlumPopulationFemale\", when((col(\"SlumPopulationTotal\") > 0) & (col(\"SlumPopulationFemale\") == 0), 0.48 * col(\"SlumPopulationTotal\")).otherwise(col(\"SlumPopulationFemale\")))"
   ]
  },
  {
   "cell_type": "code",
   "execution_count": 0,
   "metadata": {
    "application/vnd.databricks.v1+cell": {
     "cellMetadata": {},
     "inputWidgets": {},
     "nuid": "dc32ef6a-0798-4415-b8f5-b1e1882e6aa7",
     "showTitle": false,
     "title": ""
    }
   },
   "outputs": [],
   "source": [
    "display(df)"
   ]
  },
  {
   "cell_type": "markdown",
   "metadata": {
    "application/vnd.databricks.v1+cell": {
     "cellMetadata": {},
     "inputWidgets": {},
     "nuid": "72146e00-c509-4b25-aa6a-e4a2f1e9842f",
     "showTitle": false,
     "title": ""
    }
   },
   "source": [
    "#### City-wise Slum Population"
   ]
  },
  {
   "cell_type": "code",
   "execution_count": 0,
   "metadata": {
    "application/vnd.databricks.v1+cell": {
     "cellMetadata": {},
     "inputWidgets": {},
     "nuid": "658a610b-19e8-44af-b1a7-6e853758c099",
     "showTitle": false,
     "title": ""
    }
   },
   "outputs": [],
   "source": [
    "top_10_cities_population = df.orderBy(\"SlumPopulationTotal\", ascending=False).limit(10)\n",
    "pandas_df = top_10_cities_population.select('City', 'SlumPopulationMale','SlumPopulationFemale').toPandas()\n",
    "\n",
    "# Plot a city-wise stacked bar plot\n",
    "ax = pandas_df.set_index('City').plot(kind='bar', stacked=True, figsize=(10, 6))\n",
    "plt.xlabel('City')\n",
    "plt.ylabel('Population')\n",
    "ax.get_yaxis().get_major_formatter().set_scientific(False)\n",
    "plt.show()"
   ]
  },
  {
   "cell_type": "markdown",
   "metadata": {
    "application/vnd.databricks.v1+cell": {
     "cellMetadata": {},
     "inputWidgets": {},
     "nuid": "e0e4bd88-860d-4001-9f6b-6924ba82d22a",
     "showTitle": false,
     "title": ""
    }
   },
   "source": [
    "top_10_cities_literacy = df.orderBy(\"LiteracyRatePercentage\", ascending=False).limit(10)\n",
    "pandas_df = top_10_cities_population.select('City', 'LiteracyRatePercentage').toPandas()\n",
    "\n",
    "# Plot a city-wise stacked bar plot\n",
    "ax = pandas_df.set_index('City').plot(kind='bar', figsize=(10, 6))\n",
    "plt.xlabel('City')\n",
    "plt.ylabel('Literacy rate')\n",
    "ax.get_yaxis().get_major_formatter().set_scientific(False)\n",
    "plt.show()"
   ]
  },
  {
   "cell_type": "code",
   "execution_count": 0,
   "metadata": {
    "application/vnd.databricks.v1+cell": {
     "cellMetadata": {},
     "inputWidgets": {},
     "nuid": "de1dcf65-e81f-4982-b7d3-a499c08a9a4f",
     "showTitle": false,
     "title": ""
    }
   },
   "outputs": [],
   "source": [
    "#top_10_cities_literacy = df.orderBy(\"LiteracyRatePercentage\", ascending=False).limit(10) pandas_df = top_10_cities_population.select('City', 'LiteracyRatePercentage').toPandas()"
   ]
  },
  {
   "cell_type": "code",
   "execution_count": 0,
   "metadata": {
    "application/vnd.databricks.v1+cell": {
     "cellMetadata": {},
     "inputWidgets": {},
     "nuid": "393e6979-9508-45fd-b907-a4c844a59543",
     "showTitle": false,
     "title": ""
    }
   },
   "outputs": [],
   "source": [
    "#display(top_10_cities_literacy)"
   ]
  },
  {
   "cell_type": "code",
   "execution_count": 0,
   "metadata": {
    "application/vnd.databricks.v1+cell": {
     "cellMetadata": {},
     "inputWidgets": {},
     "nuid": "e752cb0a-458e-428f-bd77-d6a618bd8ce5",
     "showTitle": false,
     "title": ""
    }
   },
   "outputs": [],
   "source": [
    "feature_cols = ['SlumPopulationTotal', 'SlumPopulationMale', 'PopulationSCCategory', 'PopulationSTCategory', 'LiteracyRatePercentage']\n",
    "cluster_df = KmeanCluster(df, feature_cols)"
   ]
  },
  {
   "cell_type": "code",
   "execution_count": 0,
   "metadata": {
    "application/vnd.databricks.v1+cell": {
     "cellMetadata": {},
     "inputWidgets": {},
     "nuid": "a6c95db4-bd03-47c6-a79d-4039882ce905",
     "showTitle": false,
     "title": ""
    }
   },
   "outputs": [],
   "source": [
    "silhouette_score, pca_df = score_and_pca(cluster_df)"
   ]
  },
  {
   "cell_type": "code",
   "execution_count": 0,
   "metadata": {
    "application/vnd.databricks.v1+cell": {
     "cellMetadata": {},
     "inputWidgets": {},
     "nuid": "d160c249-a459-455e-be61-438167398cbb",
     "showTitle": false,
     "title": ""
    }
   },
   "outputs": [],
   "source": [
    "displayHTML(f\"<h1>Silhouette Score: {silhouette_score:.2f}</h1>\")"
   ]
  },
  {
   "cell_type": "code",
   "execution_count": 0,
   "metadata": {
    "application/vnd.databricks.v1+cell": {
     "cellMetadata": {},
     "inputWidgets": {},
     "nuid": "5bf2d8d0-3396-4cca-be17-e912723e3320",
     "showTitle": false,
     "title": ""
    }
   },
   "outputs": [],
   "source": [
    "plot_clusters_pca_result(pca_df)"
   ]
  },
  {
   "cell_type": "code",
   "execution_count": 0,
   "metadata": {
    "application/vnd.databricks.v1+cell": {
     "cellMetadata": {},
     "inputWidgets": {},
     "nuid": "9a02001e-5599-4d6f-8a91-174afe5ed5f5",
     "showTitle": false,
     "title": ""
    }
   },
   "outputs": [],
   "source": [
    "display(cluster_df)"
   ]
  },
  {
   "cell_type": "code",
   "execution_count": 0,
   "metadata": {
    "application/vnd.databricks.v1+cell": {
     "cellMetadata": {},
     "inputWidgets": {},
     "nuid": "dd654f63-278a-426f-ace6-ca03a3004ae4",
     "showTitle": false,
     "title": ""
    }
   },
   "outputs": [],
   "source": [
    "df.withColumn(\"SlumPopulationMale\", when((col(\"SlumPopulationTotal\") > 0) & (col(\"SlumPopulationMale\") == 0), 0.52 * col(\"SlumPopulationTotal\")).otherwise(col(\"SlumPopulationMale\")))"
   ]
  },
  {
   "cell_type": "markdown",
   "metadata": {
    "application/vnd.databricks.v1+cell": {
     "cellMetadata": {},
     "inputWidgets": {},
     "nuid": "c0af20f7-3f24-41f8-8a9d-26c350cf0dc0",
     "showTitle": false,
     "title": ""
    }
   },
   "source": [
    "#### Cluster-wise City Count"
   ]
  },
  {
   "cell_type": "code",
   "execution_count": 0,
   "metadata": {
    "application/vnd.databricks.v1+cell": {
     "cellMetadata": {},
     "inputWidgets": {},
     "nuid": "072cb8b6-f183-43bd-957b-ce500463bd0b",
     "showTitle": false,
     "title": ""
    }
   },
   "outputs": [],
   "source": [
    "grouped_data = cluster_df.groupBy(\"Clusters\").agg(\n",
    "    count(\"*\").alias(\"City Count\")\n",
    ")\n",
    "\n",
    "display(grouped_data)"
   ]
  },
  {
   "cell_type": "code",
   "execution_count": 0,
   "metadata": {
    "application/vnd.databricks.v1+cell": {
     "cellMetadata": {},
     "inputWidgets": {},
     "nuid": "5d366783-d595-4608-aed2-2717964e92b1",
     "showTitle": false,
     "title": ""
    }
   },
   "outputs": [],
   "source": [
    "grouped_data = cluster_df.groupBy(\"Clusters\").agg(\n",
    "    avg(\"SlumPopulationMale\").alias(\"SlumPopulationMale\"),\n",
    "    avg(\"SlumPopulationFemale\").alias(\"SlumPopulationFemale\")\n",
    ")\n",
    "\n",
    "pandas_df = grouped_data.select('Clusters', 'SlumPopulationMale','SlumPopulationFemale').toPandas()\n",
    "pandas_df = pandas_df.sort_values('SlumPopulationMale', ascending = False)\n",
    "# Plot a city-wise stacked bar plot\n",
    "ax = pandas_df.set_index('Clusters').plot(kind='bar', stacked=True, figsize=(10, 6))\n",
    "plt.xlabel('Clusters')\n",
    "plt.ylabel('Population')\n",
    "ax.get_yaxis().get_major_formatter().set_scientific(False)\n",
    "plt.show()"
   ]
  },
  {
   "cell_type": "code",
   "execution_count": 0,
   "metadata": {
    "application/vnd.databricks.v1+cell": {
     "cellMetadata": {},
     "inputWidgets": {},
     "nuid": "f49a770b-f63e-43a9-bbd8-dc1d447b4738",
     "showTitle": false,
     "title": ""
    }
   },
   "outputs": [],
   "source": [
    "df_report = cluster_df.withColumn(\"Slum_Cluster_Type\",\n",
    "                                  when (col(\"Clusters\") == 0,\"Medium\")\\\n",
    "                                .when(col(\"Clusters\") == 1,\"Small\")\\\n",
    "                                    .otherwise(\"Large\")\n",
    "                                  )\n",
    "\n",
    "display(df_report)"
   ]
  },
  {
   "cell_type": "code",
   "execution_count": 0,
   "metadata": {
    "application/vnd.databricks.v1+cell": {
     "cellMetadata": {},
     "inputWidgets": {},
     "nuid": "7f5bb6c3-b584-42c0-8563-6f5b2fff6d12",
     "showTitle": false,
     "title": ""
    }
   },
   "outputs": [],
   "source": [
    "grouped_data = df_report.groupBy(\"Slum_Cluster_Type\").agg(\n",
    "    avg(\"SlumPopulationMale\").alias(\"SlumPopulationMale\"),\n",
    "    avg(\"SlumPopulationFemale\").alias(\"SlumPopulationFemale\")\n",
    ")\n",
    "\n",
    "pandas_df = grouped_data.select('Slum_Cluster_Type', 'SlumPopulationMale','SlumPopulationFemale').toPandas()\n",
    "pandas_df = pandas_df.sort_values('SlumPopulationMale', ascending = False)\n",
    "# Plot a city-wise stacked bar plot\n",
    "ax = pandas_df.set_index('Slum_Cluster_Type').plot(kind='bar', stacked=True, figsize=(10, 6))\n",
    "plt.xlabel('Clusters')\n",
    "plt.ylabel('Population')\n",
    "ax.get_yaxis().get_major_formatter().set_scientific(False)\n",
    "plt.show()"
   ]
  },
  {
   "cell_type": "code",
   "execution_count": 0,
   "metadata": {
    "application/vnd.databricks.v1+cell": {
     "cellMetadata": {},
     "inputWidgets": {},
     "nuid": "5d343209-4dd5-4dca-8615-4e7ceca86f62",
     "showTitle": false,
     "title": ""
    }
   },
   "outputs": [],
   "source": []
  },
  {
   "cell_type": "code",
   "execution_count": 0,
   "metadata": {
    "application/vnd.databricks.v1+cell": {
     "cellMetadata": {},
     "inputWidgets": {},
     "nuid": "45b80c40-203b-46e6-a4f5-dc385111ed5c",
     "showTitle": false,
     "title": ""
    }
   },
   "outputs": [],
   "source": [
    "%run ../config/etl_config"
   ]
  },
  {
   "cell_type": "code",
   "execution_count": 0,
   "metadata": {
    "application/vnd.databricks.v1+cell": {
     "cellMetadata": {},
     "inputWidgets": {},
     "nuid": "0360d6a6-6555-4f2f-939f-cb11d7380e7d",
     "showTitle": false,
     "title": ""
    }
   },
   "outputs": [],
   "source": [
    "%run ../utils/utils"
   ]
  },
  {
   "cell_type": "code",
   "execution_count": 0,
   "metadata": {
    "application/vnd.databricks.v1+cell": {
     "cellMetadata": {},
     "inputWidgets": {},
     "nuid": "2adede28-731a-4f37-8116-6e9d9fb768e3",
     "showTitle": false,
     "title": ""
    }
   },
   "outputs": [],
   "source": [
    "\n",
    "source_type= \"deltalake\"\n",
    "code_config = config.get_config(json_var = connector_config)\n",
    "etl_params = config.get_config(json_var = processing_config)\n",
    "obj_data_ops = data_ops(source_type,code_config)\n",
    "obj_dl = obj_data_ops.get_source_obj()\n",
    "obj_dl"
   ]
  },
  {
   "cell_type": "code",
   "execution_count": 0,
   "metadata": {
    "application/vnd.databricks.v1+cell": {
     "cellMetadata": {},
     "inputWidgets": {},
     "nuid": "624ed2d3-ced6-4eb6-95d9-c2511d316143",
     "showTitle": false,
     "title": ""
    }
   },
   "outputs": [],
   "source": []
  },
  {
   "cell_type": "code",
   "execution_count": 0,
   "metadata": {
    "application/vnd.databricks.v1+cell": {
     "cellMetadata": {},
     "inputWidgets": {},
     "nuid": "361ad43e-5282-4ae4-85aa-881d8180fe5c",
     "showTitle": false,
     "title": ""
    }
   },
   "outputs": [],
   "source": [
    "obj_dl.write_data(df_data=df_report,spark=spark,table_name=\"household_slums_clusters\",data_path=\"\",table_schema=\"gold\",str_format=\"delta\",\n",
    "                            write_command=\"insert overwrite\",str_merge_cols=\"\",str_part_cols=\"\",is_table=True)"
   ]
  },
  {
   "cell_type": "code",
   "execution_count": 0,
   "metadata": {
    "application/vnd.databricks.v1+cell": {
     "cellMetadata": {},
     "inputWidgets": {},
     "nuid": "fb353df7-c190-49d4-b284-cc521a6f389d",
     "showTitle": false,
     "title": ""
    }
   },
   "outputs": [],
   "source": [
    "df = spark.sql(\"select * from gold.household_slums_clusters\")\n",
    "display(df)"
   ]
  },
  {
   "cell_type": "code",
   "execution_count": 0,
   "metadata": {
    "application/vnd.databricks.v1+cell": {
     "cellMetadata": {},
     "inputWidgets": {},
     "nuid": "4f64751e-feab-4349-9480-dc91e5d1ff55",
     "showTitle": false,
     "title": ""
    }
   },
   "outputs": [],
   "source": [
    "df.printSchema()"
   ]
  }
 ],
 "metadata": {
  "application/vnd.databricks.v1+notebook": {
   "dashboards": [],
   "language": "python",
   "notebookMetadata": {},
   "notebookName": "house_holds_slums_clustering",
   "widgets": {}
  }
 },
 "nbformat": 4,
 "nbformat_minor": 0
}
