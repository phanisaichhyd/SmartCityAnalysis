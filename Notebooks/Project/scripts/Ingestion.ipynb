{
 "cells": [
  {
   "cell_type": "code",
   "execution_count": 0,
   "metadata": {
    "application/vnd.databricks.v1+cell": {
     "cellMetadata": {},
     "inputWidgets": {},
     "nuid": "a1073ecc-89f0-48b9-a564-d6ba37a05e83",
     "showTitle": false,
     "title": ""
    }
   },
   "outputs": [],
   "source": [
    "import json\n",
    "from datetime import datetime,timedelta"
   ]
  },
  {
   "cell_type": "code",
   "execution_count": 0,
   "metadata": {
    "application/vnd.databricks.v1+cell": {
     "cellMetadata": {},
     "inputWidgets": {},
     "nuid": "01f7635e-d0ba-471e-8a31-02d83aec804c",
     "showTitle": false,
     "title": ""
    }
   },
   "outputs": [],
   "source": [
    "dbutils.widgets.text(\"source_type\",\"deltalake\")"
   ]
  },
  {
   "cell_type": "code",
   "execution_count": 0,
   "metadata": {
    "application/vnd.databricks.v1+cell": {
     "cellMetadata": {},
     "inputWidgets": {},
     "nuid": "6ff989f6-0272-4337-aa7a-22e491450f7a",
     "showTitle": false,
     "title": ""
    }
   },
   "outputs": [],
   "source": [
    "source_type = dbutils.widgets.get(\"source_type\")"
   ]
  },
  {
   "cell_type": "code",
   "execution_count": 0,
   "metadata": {
    "application/vnd.databricks.v1+cell": {
     "cellMetadata": {},
     "inputWidgets": {},
     "nuid": "f8d7c731-92f5-426a-ad4f-0735fe060cd2",
     "showTitle": false,
     "title": ""
    }
   },
   "outputs": [],
   "source": [
    "%run ../config/etl_config"
   ]
  },
  {
   "cell_type": "code",
   "execution_count": 0,
   "metadata": {
    "application/vnd.databricks.v1+cell": {
     "cellMetadata": {},
     "inputWidgets": {},
     "nuid": "91522779-f61c-4abb-8365-530305712698",
     "showTitle": false,
     "title": ""
    }
   },
   "outputs": [],
   "source": [
    "%run ../utils/utils"
   ]
  },
  {
   "cell_type": "code",
   "execution_count": 0,
   "metadata": {
    "application/vnd.databricks.v1+cell": {
     "cellMetadata": {},
     "inputWidgets": {},
     "nuid": "a76f36c7-d79a-410f-93f4-9bd18830a767",
     "showTitle": false,
     "title": ""
    }
   },
   "outputs": [],
   "source": [
    "code_config = config.get_config(json_var = connector_config)\n",
    "etl_params = config.get_config(json_var = processing_config)\n",
    "obj_data_ops = data_ops(source_type,code_config)\n",
    "obj_dl = obj_data_ops.get_source_obj()"
   ]
  },
  {
   "cell_type": "code",
   "execution_count": 0,
   "metadata": {
    "application/vnd.databricks.v1+cell": {
     "cellMetadata": {},
     "inputWidgets": {},
     "nuid": "8d9ba122-71ad-49ee-9bbb-f2b3338dc5d3",
     "showTitle": false,
     "title": ""
    }
   },
   "outputs": [],
   "source": [
    "landing_files = dbutils.fs.ls(etl_params[\"ingestion\"][\"landing\"][\"path\"])\n",
    "bronze_files = dbutils.fs.ls(etl_params[\"ingestion\"][\"bronze\"][\"path\"])\n",
    "bronze_silver_mappings = etl_params[\"ingestion\"][\"bronze_silver_mapping\"]\n",
    "default_silver_table_ops = etl_params[\"ingestion\"][\"bronze\"][\"write_command\"]\n",
    "silver_db = etl_params[\"ingestion\"][\"silver\"][\"db\"]\n",
    "silver_default_table_format = etl_params[\"ingestion\"][\"silver\"][\"table_format\"]\n",
    "gold_db = etl_params[\"ingestion\"][\"gold\"][\"db\"]\n",
    "gold_default_table_format = etl_params[\"ingestion\"][\"gold\"][\"table_format\"]\n",
    "#print(silver_db)"
   ]
  },
  {
   "cell_type": "code",
   "execution_count": 0,
   "metadata": {
    "application/vnd.databricks.v1+cell": {
     "cellMetadata": {},
     "inputWidgets": {},
     "nuid": "55794a52-b0e1-49bf-ab1d-62e92660629d",
     "showTitle": false,
     "title": ""
    }
   },
   "outputs": [],
   "source": [
    "landing_path  = etl_params[\"ingestion\"][\"landing\"][\"path\"]\n",
    "landing_default_read_params  = etl_params[\"ingestion\"][\"landing\"][\"read_options\"]\n",
    "landing_default_file_format  = etl_params[\"ingestion\"][\"landing\"][\"file_format\"]\n",
    "bronze_path  = etl_params[\"ingestion\"][\"bronze\"][\"path\"]\n",
    "bronze_default_file_format  = etl_params[\"ingestion\"][\"bronze\"][\"format\"]\n",
    "print(landing_path,landing_default_read_params,landing_default_file_format,bronze_path,bronze_default_file_format)"
   ]
  },
  {
   "cell_type": "code",
   "execution_count": 0,
   "metadata": {
    "application/vnd.databricks.v1+cell": {
     "cellMetadata": {},
     "inputWidgets": {},
     "nuid": "e0da6a95-e4a4-4f7b-880d-0b0d5ab1ee5a",
     "showTitle": false,
     "title": ""
    }
   },
   "outputs": [],
   "source": [
    "#bronze_files = []\n",
    "#landing_files = []\n",
    "if len(bronze_files) >0 :\n",
    "  bronze_files = [files.name for files in bronze_files]\n",
    "print(\"Cleaning up Bronze Layer\")\n",
    "for f in bronze_files:\n",
    "  dbutils.fs.rm(bronze_path + f)\n",
    "if len(landing_files) > 0:\n",
    "  landing_files = [files.name for files in landing_files]\n",
    "print(\"Moving Landing files to bronze layer\")\n",
    "for f in landing_files:\n",
    "  print(\"Moving \" + f + \" from landing to bronze\")\n",
    "  dbutils.fs.cp(landing_path + f ,bronze_path)\n",
    "print(\"All files are moved from landing area to bronze\")\n"
   ]
  },
  {
   "cell_type": "code",
   "execution_count": 0,
   "metadata": {
    "application/vnd.databricks.v1+cell": {
     "cellMetadata": {},
     "inputWidgets": {},
     "nuid": "ac93e5e5-db68-434d-a601-4876c95e2144",
     "showTitle": false,
     "title": ""
    }
   },
   "outputs": [],
   "source": [
    "data_to_ingest = dbutils.fs.ls(bronze_path)\n",
    "for data_file_itr in data_to_ingest:\n",
    "  data_file = data_file_itr.name\n",
    "  print(data_file)"
   ]
  },
  {
   "cell_type": "code",
   "execution_count": 0,
   "metadata": {
    "application/vnd.databricks.v1+cell": {
     "cellMetadata": {},
     "inputWidgets": {},
     "nuid": "6f8feb5a-bbcc-4fa8-8228-f8fa79e886de",
     "showTitle": false,
     "title": ""
    }
   },
   "outputs": [],
   "source": [
    "data_to_ingest = dbutils.fs.ls(bronze_path)\n",
    "f1 = data_to_ingest[0]\n",
    "f1.size/1024"
   ]
  },
  {
   "cell_type": "code",
   "execution_count": 0,
   "metadata": {
    "application/vnd.databricks.v1+cell": {
     "cellMetadata": {},
     "inputWidgets": {},
     "nuid": "2cc4a83f-a255-47e7-9505-45745ec5a2d2",
     "showTitle": false,
     "title": ""
    }
   },
   "outputs": [],
   "source": [
    "s1 = datetime.now()\n",
    "s2 = datetime.now()\n",
    "print((s2-s1).seconds)"
   ]
  },
  {
   "cell_type": "code",
   "execution_count": 0,
   "metadata": {
    "application/vnd.databricks.v1+cell": {
     "cellMetadata": {},
     "inputWidgets": {},
     "nuid": "784c25e5-ad04-484d-ac60-ba29158c36cf",
     "showTitle": false,
     "title": ""
    }
   },
   "outputs": [],
   "source": [
    "data_to_ingest = dbutils.fs.ls(bronze_path)\n",
    "#print(data_to_ingest)\n",
    "for data_file in data_to_ingest:\n",
    "  start_time = datetime.now()\n",
    "  print(\"***************************\",data_file,\"***************************************************\")\n",
    "  file_path = data_file.path\n",
    "  file_name = data_file.name\n",
    "  file_size_kb = data_file.size/1024\n",
    "  file_ingestion_config = etl_params[\"ingestion\"][\"bronze_silver_mapping\"]\n",
    "  \n",
    "  table_name = file_name.split(\".\")[0]\n",
    "  read_options = {}\n",
    "  write_command = \"insert overwrite \"\n",
    "  table_format = \"delta\"\n",
    "  src_file_format = \"csv\"\n",
    "\n",
    "  if landing_default_read_params != None and landing_default_read_params != \"\":\n",
    "    #print(\"Reading from Default Config Values\")\n",
    "    #print(landing_default_read_params)\n",
    "    read_options = json.loads(landing_default_read_params.replace(\"'\",'\"'))\n",
    "  if landing_default_file_format != None and landing_default_file_format != \"\":\n",
    "    #print(\"Reading from Default Config Values\")\n",
    "    src_file_format = landing_default_file_format\n",
    "  if bronze_default_file_format != None and bronze_default_file_format != \"\":\n",
    "    #print(\"Reading from Default Config Values\")\n",
    "    src_file_format = bronze_default_file_format\n",
    "  if silver_default_table_format != None and silver_default_table_format != \"\":\n",
    "    table_format = silver_default_table_format  \n",
    "  if default_silver_table_ops != None and default_silver_table_ops != \"\":\n",
    "    write_command = default_silver_table_ops \n",
    "\n",
    "  #print(\"----------Default values--------------------------\")\n",
    "  #print(read_options,src_file_format,table_format,write_command)\n",
    "  #print(\"Config Keys\")\n",
    "  #print(file_ingestion_config.keys())\n",
    "  #print(\"test\")\n",
    "  #print(\"file_format\" in list(file_ingestion_config[file_name].keys()))\n",
    "  if \"file_format\" in list(file_ingestion_config[file_name].keys()):\n",
    "    #print(\"Table Params\")\n",
    "    src_file_format = file_ingestion_config[file_name][\"file_format\"]\n",
    "\n",
    "  if \"table_name\" in file_ingestion_config[file_name].keys():\n",
    "    table_name = file_ingestion_config[file_name][\"table_name\"]\n",
    "  if \"read_options\" in file_ingestion_config[file_name].keys():\n",
    "    read_options = json.loads(file_ingestion_config[file_name][\"read_options\"].replace(\"'\",'\"'))\n",
    "  if \"write_command\" in file_ingestion_config[file_name].keys():\n",
    "    write_command = file_ingestion_config[file_name][\"write_command\"]\n",
    "  if \"table_format\" in file_ingestion_config[file_name].keys():\n",
    "    table_format = file_ingestion_config[file_name][\"table_format\"]\n",
    "  #print(\"file_ingestion_config = \",file_ingestion_config)\n",
    "  #print(\"Final Values\")\n",
    "  #print(read_options,src_file_format,table_format,write_command)\n",
    "  print(table_name,silver_db,table_format,write_command)\n",
    "  \n",
    "  df = obj_dl.read_data(spark=spark,str_format=src_file_format,source_type=src_file_format,table_name=\"\",query=\"\",table_schema=silver_db,path=file_path,src_options=read_options)\n",
    "  df_cols = df.columns\n",
    "  for colum in df_cols:\n",
    "    new_col_name = colum.replace(\" \",\"\").replace(\"-\",\"_\").replace(\"(\",\"\").replace(\")\",\"\")#.replace(\"\",\"\")\n",
    "    df = df.withColumnRenamed(colum,new_col_name)\n",
    "  #display(df)\n",
    "  silver_path  = \"dbfs:/user/hive/warehouse/silver.db/\" + table_name\n",
    "  print(\"Silver Path = \",silver_path)\n",
    "  \n",
    "  obj_dl.write_data(df_data=df,spark=spark,table_name=table_name,data_path=\"\",table_schema=silver_db,str_format=table_format,\n",
    "                            write_command=write_command,str_merge_cols=\"\",str_part_cols=\"\",is_table=True)\n",
    "  end_time = datetime.now()\n",
    "  time_delta = end_time\n",
    "  print(\"Data Saved in Silver; File Size(KB) = \",file_size_kb,\" KB; Time taken = \",((end_time-start_time).seconds),\" Seconds;StartTime = \", start_time,\"; EndTime = \",end_time)"
   ]
  },
  {
   "cell_type": "code",
   "execution_count": 0,
   "metadata": {
    "application/vnd.databricks.v1+cell": {
     "cellMetadata": {},
     "inputWidgets": {},
     "nuid": "56440e59-8a9c-4960-8df6-eac91448b19a",
     "showTitle": false,
     "title": ""
    }
   },
   "outputs": [],
   "source": [
    "#exit()"
   ]
  },
  {
   "cell_type": "code",
   "execution_count": 0,
   "metadata": {
    "application/vnd.databricks.v1+cell": {
     "cellMetadata": {},
     "inputWidgets": {},
     "nuid": "532d954a-92be-4cdf-8187-a9ce94941370",
     "showTitle": false,
     "title": ""
    }
   },
   "outputs": [],
   "source": [
    "#src_options = {\"header\":\"true\",\"delimiter\":\"|\",\"inferSchema\":\"true\"}\n",
    "##path = \"dbfs:/FileStore/shared_uploads/bronze/sample.dat\"\n",
    "#silver_table = \"sample\""
   ]
  },
  {
   "cell_type": "code",
   "execution_count": 0,
   "metadata": {
    "application/vnd.databricks.v1+cell": {
     "cellMetadata": {},
     "inputWidgets": {},
     "nuid": "616fe762-bd53-4ca9-9a8e-9f44386de289",
     "showTitle": false,
     "title": ""
    }
   },
   "outputs": [],
   "source": [
    "##df = obj_dl.read_data(spark=spark,str_format=\"csv\",source_type=\"csv\",table_name=\"\",query=\"\",table_schema=\"default\",path=path,src_options=src_options)"
   ]
  },
  {
   "cell_type": "code",
   "execution_count": 0,
   "metadata": {
    "application/vnd.databricks.v1+cell": {
     "cellMetadata": {},
     "inputWidgets": {},
     "nuid": "247a0bb5-a384-4e76-9cb5-fbe46c33f304",
     "showTitle": false,
     "title": ""
    }
   },
   "outputs": [],
   "source": [
    "#obj_dl.write_data(df_data=df,spark=spark,table_name=silver_table,data_path=\"\",table_schema=\"silver\",str_format=\"delta\",\n",
    "#                            write_command=\"insert overwrite \",str_merge_cols=\"\",str_part_cols=\"\",is_table=True)"
   ]
  },
  {
   "cell_type": "code",
   "execution_count": 0,
   "metadata": {
    "application/vnd.databricks.v1+cell": {
     "cellMetadata": {},
     "inputWidgets": {},
     "nuid": "aa67e2d9-7bbd-45b9-8f59-6feccce2db16",
     "showTitle": false,
     "title": ""
    }
   },
   "outputs": [],
   "source": [
    "%sql\n",
    "use silver;\n",
    "show tables;"
   ]
  },
  {
   "cell_type": "code",
   "execution_count": 0,
   "metadata": {
    "application/vnd.databricks.v1+cell": {
     "cellMetadata": {},
     "inputWidgets": {},
     "nuid": "e9994ea2-8ae1-4662-b160-2004317f2323",
     "showTitle": false,
     "title": ""
    }
   },
   "outputs": [],
   "source": [
    "spark.sql(\"\"\" select count(*) from silver.water_consumption \n",
    "          union \n",
    "          select count(*) from silver.electricity_consumption \n",
    "          union  \n",
    "          select count(*) from silver.house_holds_slums\"\"\").show()\n"
   ]
  },
  {
   "cell_type": "code",
   "execution_count": 0,
   "metadata": {
    "application/vnd.databricks.v1+cell": {
     "cellMetadata": {},
     "inputWidgets": {},
     "nuid": "329291f5-32b3-4709-ac42-8843aa84e0a3",
     "showTitle": false,
     "title": ""
    }
   },
   "outputs": [],
   "source": [
    "%sql\n",
    "use silver;\n",
    "desc detail silver.electricity_consumption;"
   ]
  },
  {
   "cell_type": "code",
   "execution_count": 0,
   "metadata": {
    "application/vnd.databricks.v1+cell": {
     "cellMetadata": {},
     "inputWidgets": {},
     "nuid": "2c9e288d-ddab-4bca-b3ca-c3f21c3f3071",
     "showTitle": false,
     "title": ""
    }
   },
   "outputs": [],
   "source": [
    "dbutils.fs.ls(\"dbfs:/user/hive/warehouse/silver.db\")"
   ]
  },
  {
   "cell_type": "code",
   "execution_count": 0,
   "metadata": {
    "application/vnd.databricks.v1+cell": {
     "cellMetadata": {},
     "inputWidgets": {},
     "nuid": "cbef9a57-3c87-4e48-99e3-ef78620a5f55",
     "showTitle": false,
     "title": ""
    }
   },
   "outputs": [],
   "source": [
    "df_delta = spark.read.format(\"delta\").load('dbfs:/user/hive/warehouse/silver.db/electricity_consumption/')\n",
    "display(df_delta)"
   ]
  },
  {
   "cell_type": "code",
   "execution_count": 0,
   "metadata": {
    "application/vnd.databricks.v1+cell": {
     "cellMetadata": {},
     "inputWidgets": {},
     "nuid": "6cce7530-2312-4ad7-b362-4b75d58af10f",
     "showTitle": false,
     "title": ""
    }
   },
   "outputs": [],
   "source": [
    "df_sql = spark.sql(\"select * from silver.electricity_consumption\")\n",
    "display(df_sql)"
   ]
  },
  {
   "cell_type": "code",
   "execution_count": 0,
   "metadata": {
    "application/vnd.databricks.v1+cell": {
     "cellMetadata": {},
     "inputWidgets": {},
     "nuid": "0862d49f-300d-467f-af1c-abbe7b6d340b",
     "showTitle": false,
     "title": ""
    }
   },
   "outputs": [],
   "source": [
    "dbutils.fs.ls(\"dbfs:/user/hive/warehouse/silver.db/electricity_consumption/_delta_log/\")"
   ]
  },
  {
   "cell_type": "code",
   "execution_count": 0,
   "metadata": {
    "application/vnd.databricks.v1+cell": {
     "cellMetadata": {},
     "inputWidgets": {},
     "nuid": "872ecda3-fbd4-424c-bdda-5ac806e8d85b",
     "showTitle": false,
     "title": ""
    }
   },
   "outputs": [],
   "source": [
    "dbutils.fs.head('dbfs:/user/hive/warehouse/silver.db/electricity_consumption/_delta_log/00000000000000000000.json')"
   ]
  }
 ],
 "metadata": {
  "application/vnd.databricks.v1+notebook": {
   "dashboards": [],
   "language": "python",
   "notebookMetadata": {},
   "notebookName": "Ingestion",
   "widgets": {}
  }
 },
 "nbformat": 4,
 "nbformat_minor": 0
}
