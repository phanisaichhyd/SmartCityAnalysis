{
 "cells": [
  {
   "cell_type": "markdown",
   "metadata": {
    "application/vnd.databricks.v1+cell": {
     "cellMetadata": {},
     "inputWidgets": {},
     "nuid": "67808265-50f5-46c2-8926-8ef5a80ca17e",
     "showTitle": false,
     "title": ""
    }
   },
   "source": [
    "## Electricity Clustering"
   ]
  },
  {
   "cell_type": "code",
   "execution_count": 0,
   "metadata": {
    "application/vnd.databricks.v1+cell": {
     "cellMetadata": {},
     "inputWidgets": {},
     "nuid": "ce654524-86f8-4e7e-822e-eee176da0964",
     "showTitle": false,
     "title": ""
    }
   },
   "outputs": [],
   "source": [
    "from pyspark.sql.functions import col, when, count, sum, avg"
   ]
  },
  {
   "cell_type": "code",
   "execution_count": 0,
   "metadata": {
    "application/vnd.databricks.v1+cell": {
     "cellMetadata": {},
     "inputWidgets": {},
     "nuid": "49e17086-cbf1-4612-8627-c2ef0d0469c5",
     "showTitle": false,
     "title": ""
    }
   },
   "outputs": [],
   "source": [
    "%run ../utils/model_utils"
   ]
  },
  {
   "cell_type": "code",
   "execution_count": 0,
   "metadata": {
    "application/vnd.databricks.v1+cell": {
     "cellMetadata": {},
     "inputWidgets": {},
     "nuid": "c2122a0f-6a6a-4683-90e3-267b4469a70c",
     "showTitle": false,
     "title": ""
    }
   },
   "outputs": [],
   "source": [
    "df = spark.sql(\"select * from silver.electricity_consumption\")"
   ]
  },
  {
   "cell_type": "code",
   "execution_count": 0,
   "metadata": {
    "application/vnd.databricks.v1+cell": {
     "cellMetadata": {},
     "inputWidgets": {},
     "nuid": "249da8e2-65af-4b38-a928-010e7281f527",
     "showTitle": false,
     "title": ""
    }
   },
   "outputs": [],
   "source": [
    "display(df)"
   ]
  },
  {
   "cell_type": "code",
   "execution_count": 0,
   "metadata": {
    "application/vnd.databricks.v1+cell": {
     "cellMetadata": {},
     "inputWidgets": {},
     "nuid": "565fd91d-52bc-4638-b6ef-489ea395bf99",
     "showTitle": false,
     "title": ""
    }
   },
   "outputs": [],
   "source": [
    "df, numerical_cols = data_preprocessing(df, null_threshold_percentage = 0.5)"
   ]
  },
  {
   "cell_type": "code",
   "execution_count": 0,
   "metadata": {
    "application/vnd.databricks.v1+cell": {
     "cellMetadata": {},
     "inputWidgets": {},
     "nuid": "8ffa6a61-7ed8-40c3-8a97-6406c04ae613",
     "showTitle": false,
     "title": ""
    }
   },
   "outputs": [],
   "source": [
    "display(df)"
   ]
  },
  {
   "cell_type": "code",
   "execution_count": 0,
   "metadata": {
    "application/vnd.databricks.v1+cell": {
     "cellMetadata": {},
     "inputWidgets": {},
     "nuid": "c50b405e-34e0-45e6-9eca-50988afd8c4e",
     "showTitle": false,
     "title": ""
    }
   },
   "outputs": [],
   "source": [
    "df = df.filter((col('CityName') != 'Port Blair') & (col('CityName') != 'DHARAMSHALA'))\n",
    "display(df)"
   ]
  },
  {
   "cell_type": "code",
   "execution_count": 0,
   "metadata": {
    "application/vnd.databricks.v1+cell": {
     "cellMetadata": {},
     "inputWidgets": {},
     "nuid": "71337494-7174-4683-988a-3fde78100321",
     "showTitle": false,
     "title": ""
    }
   },
   "outputs": [],
   "source": [
    "feature_cols = numerical_cols\n",
    "cluster_df = KmeanCluster(df, feature_cols)"
   ]
  },
  {
   "cell_type": "code",
   "execution_count": 0,
   "metadata": {
    "application/vnd.databricks.v1+cell": {
     "cellMetadata": {},
     "inputWidgets": {},
     "nuid": "72afa154-4f1a-4bb1-baac-77ba3b4b9dd6",
     "showTitle": false,
     "title": ""
    }
   },
   "outputs": [],
   "source": [
    "silhouette_score, pca_df = score_and_pca(cluster_df)"
   ]
  },
  {
   "cell_type": "code",
   "execution_count": 0,
   "metadata": {
    "application/vnd.databricks.v1+cell": {
     "cellMetadata": {},
     "inputWidgets": {},
     "nuid": "086f6697-7034-4e6f-9ab5-06b70546e480",
     "showTitle": false,
     "title": ""
    }
   },
   "outputs": [],
   "source": [
    "displayHTML(f\"<h1>Silhouette Score: {silhouette_score:.2f}</h1>\")"
   ]
  },
  {
   "cell_type": "code",
   "execution_count": 0,
   "metadata": {
    "application/vnd.databricks.v1+cell": {
     "cellMetadata": {},
     "inputWidgets": {},
     "nuid": "3182e7c3-9d2f-4dff-b0d0-826d405799e6",
     "showTitle": false,
     "title": ""
    }
   },
   "outputs": [],
   "source": [
    "plot_clusters_pca_result(pca_df)"
   ]
  },
  {
   "cell_type": "code",
   "execution_count": 0,
   "metadata": {
    "application/vnd.databricks.v1+cell": {
     "cellMetadata": {},
     "inputWidgets": {},
     "nuid": "c99662f7-3ca0-41c6-bb44-52ae2535d4c9",
     "showTitle": false,
     "title": ""
    }
   },
   "outputs": [],
   "source": [
    "display(cluster_df)"
   ]
  },
  {
   "cell_type": "markdown",
   "metadata": {
    "application/vnd.databricks.v1+cell": {
     "cellMetadata": {},
     "inputWidgets": {},
     "nuid": "a7db1b54-d9cf-4667-a4dd-7f560c14fd00",
     "showTitle": false,
     "title": ""
    }
   },
   "source": [
    "#### Cluster-wise City Count"
   ]
  },
  {
   "cell_type": "code",
   "execution_count": 0,
   "metadata": {
    "application/vnd.databricks.v1+cell": {
     "cellMetadata": {},
     "inputWidgets": {},
     "nuid": "941ef28f-6ddd-41f6-ad53-27cd63b418ab",
     "showTitle": false,
     "title": ""
    }
   },
   "outputs": [],
   "source": [
    "grouped_data = cluster_df.groupBy(\"Clusters\").agg(\n",
    "    count(\"*\").alias(\"City Count\")\n",
    ")\n",
    "\n",
    "display(grouped_data)"
   ]
  },
  {
   "cell_type": "code",
   "execution_count": 0,
   "metadata": {
    "application/vnd.databricks.v1+cell": {
     "cellMetadata": {},
     "inputWidgets": {},
     "nuid": "3e37b540-9f82-48b6-a6c5-988b5229b594",
     "showTitle": false,
     "title": ""
    }
   },
   "outputs": [],
   "source": [
    "grouped_data = cluster_df.groupBy(\"Clusters\").agg(\n",
    "    avg(\"ConsumptionofElectricityinlakhunitsTotalConsumption\").alias(\"AverageElectricityConsumption\")\n",
    ")\n",
    "\n",
    "pandas_df = grouped_data.select('Clusters', 'AverageElectricityConsumption').toPandas()\n",
    "\n",
    "# Plot a city-wise stacked bar plot\n",
    "ax = pandas_df.set_index('Clusters').plot(kind='bar', stacked=True, figsize=(10, 6))\n",
    "plt.xlabel('Clusters')\n",
    "plt.ylabel('Average Consumption')\n",
    "ax.get_yaxis().get_major_formatter().set_scientific(False)\n",
    "plt.show()"
   ]
  },
  {
   "cell_type": "code",
   "execution_count": 0,
   "metadata": {
    "application/vnd.databricks.v1+cell": {
     "cellMetadata": {},
     "inputWidgets": {},
     "nuid": "1d44ee48-5ec4-4f10-b060-742c388af956",
     "showTitle": false,
     "title": ""
    }
   },
   "outputs": [],
   "source": [
    "df_report = cluster_df.withColumn(\"Electricity_consumption_cluster_Type\",\n",
    "                                  when (col(\"Clusters\") == 0,\"Medium\")\\\n",
    "                                .when(col(\"Clusters\") == 1,\"Small\")\\\n",
    "                                    .otherwise(\"Large\")\n",
    "                                  )\n",
    "\n",
    "display(df_report)"
   ]
  },
  {
   "cell_type": "code",
   "execution_count": 0,
   "metadata": {
    "application/vnd.databricks.v1+cell": {
     "cellMetadata": {},
     "inputWidgets": {},
     "nuid": "ddd2110d-40b6-4c32-b606-3e0e47dded9e",
     "showTitle": false,
     "title": ""
    }
   },
   "outputs": [],
   "source": [
    "grouped_data = df_report.groupBy(\"Electricity_consumption_cluster_Type\").agg(\n",
    "    avg(\"ConsumptionofElectricityinlakhunitsTotalConsumption\").alias(\"AverageElectricityConsumption\")\n",
    ")\n",
    "\n",
    "pandas_df = grouped_data.select('Electricity_consumption_cluster_Type', 'AverageElectricityConsumption').toPandas()\n",
    "pandas_df = pandas_df.sort_values('AverageElectricityConsumption', ascending = False)\n",
    "\n",
    "# Plot a city-wise stacked bar plot\n",
    "ax = pandas_df.set_index('Electricity_consumption_cluster_Type').plot(kind='bar', stacked=True, figsize=(10, 6))\n",
    "plt.xlabel('Clusters')\n",
    "plt.ylabel('Average Electricity Consumption')\n",
    "ax.get_yaxis().get_major_formatter().set_scientific(False)\n",
    "plt.show()"
   ]
  },
  {
   "cell_type": "code",
   "execution_count": 0,
   "metadata": {
    "application/vnd.databricks.v1+cell": {
     "cellMetadata": {},
     "inputWidgets": {},
     "nuid": "7795e352-c6e6-46c5-a0a7-dd3d506cdd97",
     "showTitle": false,
     "title": ""
    }
   },
   "outputs": [],
   "source": [
    "%run ../config/etl_config"
   ]
  },
  {
   "cell_type": "code",
   "execution_count": 0,
   "metadata": {
    "application/vnd.databricks.v1+cell": {
     "cellMetadata": {},
     "inputWidgets": {},
     "nuid": "46e2472b-dd00-4e75-95a4-dbd891d2f573",
     "showTitle": false,
     "title": ""
    }
   },
   "outputs": [],
   "source": [
    "%run ../utils/utils"
   ]
  },
  {
   "cell_type": "code",
   "execution_count": 0,
   "metadata": {
    "application/vnd.databricks.v1+cell": {
     "cellMetadata": {},
     "inputWidgets": {},
     "nuid": "e1aa1659-233d-46ed-9713-0f461c8300b2",
     "showTitle": false,
     "title": ""
    }
   },
   "outputs": [],
   "source": [
    "\n",
    "source_type= \"deltalake\"\n",
    "code_config = config.get_config(json_var = connector_config)\n",
    "etl_params = config.get_config(json_var = processing_config)\n",
    "obj_data_ops = data_ops(source_type,code_config)\n",
    "obj_dl = obj_data_ops.get_source_obj()\n",
    "obj_dl"
   ]
  },
  {
   "cell_type": "code",
   "execution_count": 0,
   "metadata": {
    "application/vnd.databricks.v1+cell": {
     "cellMetadata": {},
     "inputWidgets": {},
     "nuid": "2adb7632-85d7-405d-adb4-42b1077f6bef",
     "showTitle": false,
     "title": ""
    }
   },
   "outputs": [],
   "source": [
    "obj_dl.write_data(df_data=df_report,spark=spark,table_name=\"electricity_clusters\",data_path=\"\",table_schema=\"gold\",str_format=\"delta\",\n",
    "                            write_command=\"insert overwrite\",str_merge_cols=\"\",str_part_cols=\"\",is_table=True)"
   ]
  },
  {
   "cell_type": "code",
   "execution_count": 0,
   "metadata": {
    "application/vnd.databricks.v1+cell": {
     "cellMetadata": {},
     "inputWidgets": {},
     "nuid": "1f85ff06-81d3-4722-aadc-030fba177054",
     "showTitle": false,
     "title": ""
    }
   },
   "outputs": [],
   "source": [
    "df = spark.sql(\"select * from gold.electricity_clusters\")\n",
    "display(df)"
   ]
  },
  {
   "cell_type": "code",
   "execution_count": 0,
   "metadata": {
    "application/vnd.databricks.v1+cell": {
     "cellMetadata": {},
     "inputWidgets": {},
     "nuid": "6627e57d-76ea-4b4a-bfa5-269c58e2782a",
     "showTitle": false,
     "title": ""
    }
   },
   "outputs": [],
   "source": [
    "df.printSchema()"
   ]
  },
  {
   "cell_type": "code",
   "execution_count": 0,
   "metadata": {
    "application/vnd.databricks.v1+cell": {
     "cellMetadata": {},
     "inputWidgets": {},
     "nuid": "88a90a55-567c-4a7a-9600-5c71ca454ae0",
     "showTitle": false,
     "title": ""
    }
   },
   "outputs": [],
   "source": []
  }
 ],
 "metadata": {
  "application/vnd.databricks.v1+notebook": {
   "dashboards": [],
   "language": "python",
   "notebookMetadata": {},
   "notebookName": "electricity_clustering",
   "widgets": {}
  }
 },
 "nbformat": 4,
 "nbformat_minor": 0
}
