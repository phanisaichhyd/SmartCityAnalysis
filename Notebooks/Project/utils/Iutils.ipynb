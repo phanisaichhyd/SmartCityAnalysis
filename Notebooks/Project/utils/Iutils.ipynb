{
 "cells": [
  {
   "cell_type": "code",
   "execution_count": 0,
   "metadata": {
    "application/vnd.databricks.v1+cell": {
     "cellMetadata": {},
     "inputWidgets": {},
     "nuid": "0cbcec1f-3964-4257-b6d6-db7c4b278a98",
     "showTitle": false,
     "title": ""
    }
   },
   "outputs": [],
   "source": [
    "from abc import ABC, abstractmethod\n",
    "\n",
    "\n",
    "class Idata_ops(ABC):\n",
    "    '''\n",
    "    Creates an interface to impliment Data Operations Class\n",
    "    '''\n",
    "    @abstractmethod\n",
    "    def read_data():\n",
    "        pass\n",
    "\n",
    "    @abstractmethod\n",
    "    def write_data():\n",
    "        pass\n",
    "\n",
    "class Iops_factory(ABC):\n",
    "    '''\n",
    "    Interface to generate required objects\n",
    "    '''\n",
    "    @abstractmethod\n",
    "    def gen_data_ops_obj(self):\n",
    "        pass"
   ]
  }
 ],
 "metadata": {
  "application/vnd.databricks.v1+notebook": {
   "dashboards": [],
   "language": "python",
   "notebookMetadata": {},
   "notebookName": "Iutils",
   "widgets": {}
  }
 },
 "nbformat": 4,
 "nbformat_minor": 0
}
