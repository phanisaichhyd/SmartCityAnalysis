{
 "cells": [
  {
   "cell_type": "code",
   "execution_count": 0,
   "metadata": {
    "application/vnd.databricks.v1+cell": {
     "cellMetadata": {},
     "inputWidgets": {},
     "nuid": "165d7b01-6adf-4e39-920b-3cee938fa520",
     "showTitle": false,
     "title": ""
    }
   },
   "outputs": [],
   "source": [
    "import json\n",
    "import logging"
   ]
  },
  {
   "cell_type": "code",
   "execution_count": 0,
   "metadata": {
    "application/vnd.databricks.v1+cell": {
     "cellMetadata": {},
     "inputWidgets": {},
     "nuid": "158a795a-5cae-410d-90a9-c067b502893d",
     "showTitle": false,
     "title": ""
    }
   },
   "outputs": [],
   "source": [
    "%run ./utils_src_connector"
   ]
  },
  {
   "cell_type": "code",
   "execution_count": 0,
   "metadata": {
    "application/vnd.databricks.v1+cell": {
     "cellMetadata": {},
     "inputWidgets": {},
     "nuid": "814191c2-7885-4852-829c-eae1a228bd4f",
     "showTitle": false,
     "title": ""
    }
   },
   "outputs": [],
   "source": [
    "class config :       \n",
    "    @classmethod      \n",
    "    def get_config(cls,json_var):\n",
    "      config = {}\n",
    "      if json_var.strip() != \"\":\n",
    "          config = json.loads(json_var)\n",
    "      return config"
   ]
  },
  {
   "cell_type": "code",
   "execution_count": 0,
   "metadata": {
    "application/vnd.databricks.v1+cell": {
     "cellMetadata": {},
     "inputWidgets": {},
     "nuid": "267ccef3-d758-4a8e-85f0-a72ad6a460d5",
     "showTitle": false,
     "title": ""
    }
   },
   "outputs": [],
   "source": [
    "class data_ops:\n",
    "    def __init__(self,source_type,config) -> None:\n",
    "        self.config = config\n",
    "        self.src_obj = src_connector.get_src_obj(config,source_type)\n",
    "    \n",
    "    def get_source_obj(self):\n",
    "        return self.src_obj \n"
   ]
  },
  {
   "cell_type": "code",
   "execution_count": 0,
   "metadata": {
    "application/vnd.databricks.v1+cell": {
     "cellMetadata": {},
     "inputWidgets": {},
     "nuid": "6532c09d-bbd7-49fd-a372-2d09ec646395",
     "showTitle": false,
     "title": ""
    }
   },
   "outputs": [],
   "source": [
    "class pylogger:\n",
    "  def __init__(self, log_flag=True, log_file=\"\", log_path=\"\"):\n",
    "        self.log_flag = log_flag\n",
    "        self.log_path = log_path        \n",
    "        self.log_file = log_file\n",
    "        self.filename =  self.log_path+self.log_file\n",
    "        self.format = '[%(asctime)s]: %(levelname)s: %(message)s'\n",
    "        formatter = logging.Formatter(self.format)\n",
    "        handler = logging.FileHandler(self.filename, 'w', 'utf-8')\n",
    "        handler.setFormatter(formatter)\n",
    "        logger = logging.getLogger(self.log_file)\n",
    "        logger.setLevel(logging.DEBUG)\n",
    "        logger.addHandler(handler)\n",
    "        logger.addHandler(handler)\n",
    "        self.logger_ = logger\n",
    "        print(\"filename = \",self.filename)\n",
    "\n",
    "  def print_log(self,message = \"\",error=False):\n",
    "    if error:\n",
    "      if self.log_flag:\n",
    "        self.logger_.error(message)\n",
    "        print('**** ERROR: ' + message + ' ***')\n",
    "    else:\n",
    "      if self.log_flag:\n",
    "        self.logger_.info(message)\n",
    "        print('>> ' + message + ' <<')\n",
    "\n",
    "  def move_log_file(self, temp_log_file_path,log_path):\n",
    "    dbutils.fs.mv(temp_log_file_path,log_path)"
   ]
  },
  {
   "cell_type": "code",
   "execution_count": 0,
   "metadata": {
    "application/vnd.databricks.v1+cell": {
     "cellMetadata": {},
     "inputWidgets": {},
     "nuid": "9d53465f-8b2f-4dcb-97ea-eade401bd46d",
     "showTitle": false,
     "title": ""
    }
   },
   "outputs": [],
   "source": [
    "print(\"Notebook ran\")"
   ]
  }
 ],
 "metadata": {
  "application/vnd.databricks.v1+notebook": {
   "dashboards": [],
   "language": "python",
   "notebookMetadata": {},
   "notebookName": "utils",
   "widgets": {}
  }
 },
 "nbformat": 4,
 "nbformat_minor": 0
}
